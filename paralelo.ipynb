{
 "cells": [
  {
   "cell_type": "markdown",
   "metadata": {},
   "source": [
    "### Importação e Ambiente"
   ]
  },
  {
   "cell_type": "code",
   "execution_count": 1,
   "metadata": {},
   "outputs": [],
   "source": [
    "import pandas as pd\n",
    "import time\n",
    "import re\n",
    "from selenium import webdriver\n",
    "from selenium.webdriver.support.ui import Select\n",
    "from selenium.webdriver.support.ui import WebDriverWait\n",
    "from selenium.webdriver.support import expected_conditions as EC\n",
    "from selenium.webdriver.common.by import By\n",
    "\n",
    "services = webdriver.ChromeService()\n",
    "options = webdriver.ChromeOptions()\n",
    "driver = webdriver.Chrome(service=services, options=options)\n",
    "\n",
    "url = 'https://transparencia.ac.gov.br/#/servidor-publico'\n",
    "driver.get(url)"
   ]
  },
  {
   "cell_type": "markdown",
   "metadata": {},
   "source": [
    "### Corpo do Código"
   ]
  },
  {
   "cell_type": "code",
   "execution_count": 3,
   "metadata": {},
   "outputs": [],
   "source": [
    "#seletores das combobox\n",
    "\n",
    "\n",
    "combobox_situacao = driver.find_elements(by=By.CLASS_NAME, value=\"conteudo-bloco-filtro-select\")[0]\n",
    "select = Select(combobox_situacao)\n",
    "select.select_by_visible_text(\"Todos\")\n",
    "\n",
    "combobox_periodo_mes = driver.find_elements(by=By.CLASS_NAME, value=\"conteudo-bloco-filtro-select\")[1]\n",
    "select = Select(combobox_periodo_mes)\n",
    "select.select_by_visible_text(\"Janeiro\")\n",
    "\n",
    "combobox_periodo_ano = driver.find_elements(by=By.CLASS_NAME, value=\"conteudo-bloco-filtro-select\")[2]\n",
    "select = Select(combobox_periodo_ano)\n",
    "select.select_by_value(\"2023\")\n",
    "\n",
    "#click no botão FILTRAR\n",
    "driver.find_element(by=By.TAG_NAME, value=\"button\").click()\n",
    "\n",
    "#esperando a página responder\n",
    "#time.sleep(50)"
   ]
  },
  {
   "cell_type": "code",
   "execution_count": 4,
   "metadata": {},
   "outputs": [],
   "source": [
    "tabela = driver.find_element(By.XPATH, \"//table\")"
   ]
  },
  {
   "cell_type": "code",
   "execution_count": 16,
   "metadata": {},
   "outputs": [
    {
     "name": "stdout",
     "output_type": "stream",
     "text": [
      "Nome\n",
      "AARON RODRIGUES GOMES EM EXERCÍCIO MEDICO  13.907,13  3.453,59  10.453,54\n"
     ]
    }
   ],
   "source": [
    "tabela = driver.find_element(By.XPATH, \"//table\")\n",
    "colunas = tabela.find_elements(By.XPATH, \"//thead/tr/th\")[0].text\n",
    "linhas = tabela.find_elements(By.XPATH, \"//tbody/tr\")[0].text\n",
    "\n",
    "#nomes_colunas  = [header.text for header in colunas]\n",
    "#dados_linhas = [i.text for i in linhas]\n",
    "\n",
    "print(colunas)\n",
    "print(linhas)"
   ]
  }
 ],
 "metadata": {
  "kernelspec": {
   "display_name": "Python 3",
   "language": "python",
   "name": "python3"
  },
  "language_info": {
   "codemirror_mode": {
    "name": "ipython",
    "version": 3
   },
   "file_extension": ".py",
   "mimetype": "text/x-python",
   "name": "python",
   "nbconvert_exporter": "python",
   "pygments_lexer": "ipython3",
   "version": "3.12.0"
  }
 },
 "nbformat": 4,
 "nbformat_minor": 2
}
